{
  "cells": [
    {
      "cell_type": "code",
      "execution_count": 6,
      "id": "0ee85c37",
      "metadata": {
        "id": "0ee85c37"
      },
      "outputs": [],
      "source": [
        "import cv2\n",
        "import numpy as np\n",
        "import pandas as pd"
      ]
    },
    {
      "cell_type": "code",
      "execution_count": 7,
      "id": "6f821037",
      "metadata": {
        "id": "6f821037"
      },
      "outputs": [],
      "source": [
        "def measure_pixel_resolution(img_path, known_length_mm, pixels_across):\n",
        "    \"\"\"Estimate pixel resolution (mm/pixel) for a given image.\"\"\"\n",
        "    pixel_res = known_length_mm / pixels_across\n",
        "    print(f\"{img_path}: Pixel resolution = {pixel_res:.3f} mm/pixel\")\n",
        "    return pixel_res\n",
        "\n",
        "def compute_dof(focal_length_mm, f_number, subject_distance_mm, coc_mm):\n",
        "    \"\"\"Compute depth of field (DOF) using optical formula.\"\"\"\n",
        "    dof_near = (subject_distance_mm * (subject_distance_mm - focal_length_mm)) / \\\n",
        "               (subject_distance_mm + (focal_length_mm / f_number) * (subject_distance_mm / coc_mm) - focal_length_mm)\n",
        "    dof_far = (subject_distance_mm * (subject_distance_mm - focal_length_mm)) / \\\n",
        "              (subject_distance_mm - (focal_length_mm / f_number) * (subject_distance_mm / coc_mm) - focal_length_mm)\n",
        "    dof = dof_far - dof_near if np.isfinite(dof_far) else np.inf\n",
        "    return dof, dof_near, dof_far"
      ]
    },
    {
      "cell_type": "code",
      "execution_count": 8,
      "id": "82b10650",
      "metadata": {
        "id": "82b10650"
      },
      "outputs": [],
      "source": [
        "images_info = [\n",
        "    {\"file\": \"35mm.png\", \"focal_length\": 35, \"pixels_across\": 60},\n",
        "    {\"file\": \"50mm.png\", \"focal_length\": 50, \"pixels_across\": 50},\n",
        "    {\"file\": \"85mm.png\", \"focal_length\": 85, \"pixels_across\": 45}\n",
        "]\n",
        "\n",
        "known_length_mm = 100   # Known real-world object size\n",
        "f_number = 5.6          # Aperture (can change)\n",
        "subject_distance_mm = 1000  # Distance to subject"
      ]
    },
    {
      "cell_type": "code",
      "execution_count": 9,
      "id": "00ee57f8",
      "metadata": {
        "colab": {
          "base_uri": "https://localhost:8080/"
        },
        "id": "00ee57f8",
        "outputId": "f8687699-7442-40df-b76b-798dd88bfad0"
      },
      "outputs": [
        {
          "output_type": "stream",
          "name": "stdout",
          "text": [
            "Loaded 35mm.png, size: 1172x776\n",
            "35mm.png: Pixel resolution = 1.667 mm/pixel\n",
            "Loaded 50mm.png, size: 1174x781\n",
            "50mm.png: Pixel resolution = 2.000 mm/pixel\n",
            "Loaded 85mm.png, size: 1178x776\n",
            "85mm.png: Pixel resolution = 2.222 mm/pixel\n"
          ]
        }
      ],
      "source": [
        "results = []\n",
        "\n",
        "for info in images_info:\n",
        "    img_path = info[\"file\"]\n",
        "    focal_length = info[\"focal_length\"]\n",
        "    pixels_across = info[\"pixels_across\"]\n",
        "\n",
        "    # Load image (optional visualization)\n",
        "    try:\n",
        "        img = cv2.imread(img_path)\n",
        "        if img is not None:\n",
        "            print(f\"Loaded {img_path}, size: {img.shape[1]}x{img.shape[0]}\")\n",
        "        else:\n",
        "            print(f\"Warning: Could not load {img_path}, using default resolution assumption.\")\n",
        "    except Exception as e:\n",
        "        print(f\"Error loading {img_path}: {e}\")\n",
        "\n",
        "    # Compute pixel resolution\n",
        "    pixel_res = measure_pixel_resolution(img_path, known_length_mm, pixels_across)\n",
        "\n",
        "    # Approximate CoC (circle of confusion)\n",
        "    coc_mm = 2 * pixel_res\n",
        "\n",
        "    # Compute DOF\n",
        "    dof, dof_near, dof_far = compute_dof(focal_length, f_number, subject_distance_mm, coc_mm)\n",
        "\n",
        "    results.append({\n",
        "        \"Image\": img_path,\n",
        "        \"Focal Length (mm)\": focal_length,\n",
        "        \"CoC (mm)\": coc_mm,\n",
        "        \"DOF Near (mm)\": dof_near,\n",
        "        \"DOF Far (mm)\": dof_far,\n",
        "        \"Total DOF (mm)\": dof\n",
        "    })\n"
      ]
    },
    {
      "cell_type": "code",
      "execution_count": 10,
      "id": "19f2e11d",
      "metadata": {
        "colab": {
          "base_uri": "https://localhost:8080/"
        },
        "id": "19f2e11d",
        "outputId": "96944f13-09c0-4653-d966-034add30b1aa"
      },
      "outputs": [
        {
          "output_type": "stream",
          "name": "stdout",
          "text": [
            "\n",
            "=== Depth of Field Comparison ===\n",
            "   Image  Focal Length (mm)  CoC (mm)  DOF Near (mm)  DOF Far (mm)  Total DOF (mm)\n",
            "35mm.png                 35  3.333333     339.788732  -1060.439560    -1400.228293\n",
            "50mm.png                 50  4.000000     298.540965   -740.947075    -1039.488040\n",
            "85mm.png                 85  4.444444     211.307683   -365.973859     -577.281542\n"
          ]
        }
      ],
      "source": [
        "\n",
        "df = pd.DataFrame(results)\n",
        "print(\"\\n=== Depth of Field Comparison ===\")\n",
        "print(df.to_string(index=False))"
      ]
    },
    {
      "cell_type": "code",
      "execution_count": 10,
      "id": "df6c75a4",
      "metadata": {
        "id": "df6c75a4"
      },
      "outputs": [],
      "source": []
    }
  ],
  "metadata": {
    "language_info": {
      "name": "python"
    },
    "colab": {
      "provenance": []
    },
    "kernelspec": {
      "name": "python3",
      "display_name": "Python 3"
    }
  },
  "nbformat": 4,
  "nbformat_minor": 5
}